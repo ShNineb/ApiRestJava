{
 "cells": [
  {
   "cell_type": "markdown",
   "metadata": {},
   "source": [
    "# API REST SPRINGBOOT & SPRING DATA JPA[Java Persitence API] (HIBERNATE) & SQLITE & SWAGGER & JUnit-Mockito"
   ]
  },
  {
   "cell_type": "markdown",
   "metadata": {},
   "source": [
    " "
   ]
  },
  {
   "cell_type": "markdown",
   "metadata": {},
   "source": [
    " "
   ]
  },
  {
   "cell_type": "markdown",
   "metadata": {},
   "source": [
    "### Maven : \"a build tool for a build Java practice\"\n",
    "\n",
    "- Maven manage les projets Java (\"project management tool\")\n",
    "- Maven fournit une structure projet, gère les dépendances (librairies, frameworks..) \n",
    "- etc..\n",
    "\n",
    "- pom.xml est le fichier dans lequel on déclare les dépendances.\n",
    "\n",
    "<u>N.B.</u> : Le mieux est de créer un projet via Spring Tools (Spring Starter Project), on trouvera alors les dépendances dans le pom.xml."
   ]
  },
  {
   "cell_type": "markdown",
   "metadata": {},
   "source": [
    "#### Quelques dépendances:\n",
    "- **Spring Data JPA** (pour le mapping objet-relationel, il inclut JPA qui inclut Hibernate qui lui même inclut JDBC et enfin SGBD)\n",
    "- **SQLite** (SGBD, on aurait pu commencer par une _BD H2_ qui est un système de BD mémoire qui est généralement utilisé pour tester les applications )\n",
    "- **Spring Web** qui intègre Spring MVC et un server ***TomCat***\n",
    "- ***Mockito*** est un framework de test open source pour Java publié sous la licence MIT. Le cadre permet la création d'objets doubles de test dans des tests unitaires automatisés à des fins de développement piloté par les tests ou de développement piloté par les comportements.\n",
    "\n",
    "Dont des outils:\n",
    "- **Spring Boot DevTools** (permet de fournir une interface web qui permet de consulter la BD) \n",
    "- **Lombok** (moyen de créer tout en masquant les getter/setter, les constructeurs, etc... qui polluent le code mais qui sont nécessaires)"
   ]
  },
  {
   "cell_type": "markdown",
   "metadata": {},
   "source": [
    "\n",
    "#### Vocabulaire:\n",
    "\n",
    "\n",
    "- Un ***mapping objet-relationnel*** (en anglais object-relational mapping ou ORM) est un type de programme informatique qui se place en interface entre un programme applicatif et une base de données relationnelle pour simuler une base de données orientée objet.\n",
    "- ***Spring Data*** est un projet Spring qui a pour objectif de simplifier l'interaction avec différents systèmes de stockage de données : qu'il s'agisse d'une base de données relationnelle, d'une base de données NoSQL, d'un système Big Data ou encore d'une API Web.\n",
    "- Un ***framework*** désigne un ensemble cohérent de composants logiciels structurels, qui sert à créer les fondations ainsi que les grandes lignes de tout ou d’une partie d'un logiciel.\n",
    "- ***Apache Tomca***t est un conteneur web libre de servlets et JSP (Java Server Page).\n",
    "- Les ***JSP*** (Java Server Pages) sont une technologie Java qui permet la génération de pages web dynamiques.    \n",
    "- Un ***conteneur de servlets*** (Servlet container en anglais) ou conteneur web (web container en anglais) est un logiciel qui exécute des servlets. Parfois, ils sont appelés moteur web ou moteur de servlets. Le logiciel le plus connu est Tomcat de la fondation Apache.\n",
    "- Un ou une ***servlet*** est une classe Java qui permet de créer dynamiquement des données au sein d'un serveur HTTP. Ces données sont le plus généralement présentées au format HTML, mais elles peuvent également l'être au format XML ou tout autre format destiné aux navigateurs web."
   ]
  },
  {
   "cell_type": "markdown",
   "metadata": {},
   "source": [
    "**N.B.**: une fois l'appli lancée via l'IDE, il suffit d'aller à l'adresse suivante: http://localhost:8070/swagger-ui.html"
   ]
  },
  {
   "cell_type": "markdown",
   "metadata": {},
   "source": [
    "\n",
    "## SpringBoot:  "
   ]
  },
  {
   "cell_type": "markdown",
   "metadata": {},
   "source": [
    "- Spring est un framework open source pour construire et définir l'infrastructure d'une application Java, dont il facilite le développement et les tests.\n"
   ]
  },
  {
   "cell_type": "markdown",
   "metadata": {},
   "source": [
    "#### Spring crée tout: \n",
    "\n",
    "- La BD (convention de notation: spring.datasource.url=jdbc:sqlite:myDb.db)\n",
    "- Spring Web : lance un serveur/conteneur web nommé _TomCat_ qu'on utilise pour l'application web (server.port=8070 pour éviter les ports occupés. N.B.: Il faut à chaque modification redémarrer sinon Spring Dev Tools permet aussi de ne pas redémarrer à chaque fois car il recompile)"
   ]
  },
  {
   "cell_type": "markdown",
   "metadata": {},
   "source": [
    "### Main\n",
    "\n",
    "***@SpringBootApplication*** : @SpringBootApplication annotation is often placed on your main class, and it implicitly defines a base “search package” for certain items. For example, if you are writing a JPA application, the package of the @SpringBootApplication annotated class is used to search for @Entity items. Using a root package also allows component scan to apply only on your project.\n",
    "    \n",
    "***@EnableJpaRepositories***:  Annotation to enable JPA repositories. Will scan the package of the annotated configuration class for Spring Data repositories by default.\n"
   ]
  },
  {
   "cell_type": "markdown",
   "metadata": {},
   "source": [
    "####  Package Entity"
   ]
  },
  {
   "cell_type": "markdown",
   "metadata": {},
   "source": [
    "@Entity\n",
    "\n",
    "***@Embeddable*** : @Embeddable and @Embedded annotations provided by the Java Persistence API (JPA). JPA provides the @Embeddable annotation to declare that a class will be embedded by other entities.\n",
    "\n",
    "\t"
   ]
  },
  {
   "cell_type": "markdown",
   "metadata": {},
   "source": [
    "#### Package Repository\n",
    "\n",
    "Aussi appelé package ***DAO - Data Access Object***\n",
    "\n",
    "C'est une interface. Cette classe hérite d'une interface \"JPARepository\" et permet l'utilisation de SpringData. Interface générique qui utilise deux types génériques: le nom de l'entité et le type de l'Id de l'entité.\n",
    "\n",
    "<u>Exemple</u> :  public interface LivreRepository ***extends JpaRepository<Livre, Integer>***\n",
    "\n",
    "\n"
   ]
  },
  {
   "cell_type": "markdown",
   "metadata": {},
   "source": [
    "\n",
    "\n",
    "\n",
    "**@RequestMapping** est l'annotation principale dans **Spring MVC** (Modèle-Vue-Controleur - architecture qui sépare les données (modèles), de l'IHM (vue) et la logique de contrôle (controleur)). \n",
    "\n",
    "L'annotation est utilisée pour mapper (associer) les requêtes web aux méthodes \"Controller\" de Spring."
   ]
  },
  {
   "cell_type": "markdown",
   "metadata": {},
   "source": [
    " "
   ]
  },
  {
   "cell_type": "markdown",
   "metadata": {},
   "source": [
    "<u>Ex</u>:\n",
    "\n",
    "`\n",
    "    @RequestMapping(value = \"/livre/readlivres\", method = RequestMethod.GET)\n",
    "\tpublic List<Livre> readLivres() {\n",
    "\t\treturn livreService.readLivres();\n",
    "\t}\n",
    "`"
   ]
  },
  {
   "cell_type": "markdown",
   "metadata": {},
   "source": [
    "***@Repository***: @Repository is a Spring annotation that indicates that the decorated class is a repository. A repository is a mechanism for encapsulating storage, retrieval, and search behavior which emulates a collection of objects. It is a specialization of the @Component annotation allowing for implementation classes to be autodetected through classpath scanning.\n",
    "\n",
    "***@ComponentScan*** ensures that the classes decorated with @Component and their derivatives including @Repository are found and registered as Spring beans. ***@ComponentScan*** is automatically included with @SpringBootApplication."
   ]
  },
  {
   "cell_type": "markdown",
   "metadata": {},
   "source": [
    "***@NoRepositoryBean*** :This will typically be used when providing an extended base interface for all repositories in combination with a custom repository base class to implement methods declared in that intermediate interface. In this case you typically derive your concrete repository interfaces from the intermediate one but don't want to create a Spring bean for the intermediate interface.\n",
    "    "
   ]
  },
  {
   "cell_type": "markdown",
   "metadata": {},
   "source": [
    "### Package Service\n",
    "***@Service***:  Spring @Service annotation is used with classes that provide some business functionalities. Spring context will autodetect these classes when annotation-based configuration and classpath scanning is used.\n",
    "@Transactional\n"
   ]
  },
  {
   "cell_type": "markdown",
   "metadata": {},
   "source": [
    "### Package Controller\n",
    "\n",
    "***@RestController*** : This is simply a specialization of the @Component class, which allows us to auto-detect implementation classes through the classpath scanning. We typically use @Controller in combination with a @RequestMapping annotation for request handling methods.\n",
    "\n",
    "\n",
    "***@Autowired*** : It allows Spring to resolve and inject collaborating beans into our bean.\n",
    "    "
   ]
  },
  {
   "cell_type": "markdown",
   "metadata": {},
   "source": [
    "***@Bean*** Un Bean est un objet qui est instancié, assemblé et géré par Spring IoC Container. IoC (Inversion of control), est un processus qui définit les dépendances d'un objet sans avoir à les créer. C'est lors de la création des objets, que Spring va Injecter les Beans entre eux afin d'avoir toutes leurs dépendances."
   ]
  },
  {
   "cell_type": "markdown",
   "metadata": {},
   "source": [
    "## Spring Data - JPA - Hibernate & SQLite : the Dialect"
   ]
  },
  {
   "cell_type": "markdown",
   "metadata": {},
   "source": [
    "#### JPA\n",
    "\n",
    "- **@Entity** : pour spécifier qu'il s'agit d'une entité JPA autrement dit d'une table dans la BD.\n",
    "On peut spécifier le nom de la table via _@Table(name=\"nomTable\")_\n",
    "- **@Id** : l'attribut qui représente l'identifiant"
   ]
  },
  {
   "cell_type": "markdown",
   "metadata": {},
   "source": [
    "### Configuration :\n",
    "- spring.datasource.url=jdbc:sqlite:myDb.db => la BD ***myDb.db***\n",
    "- spring.jpa.show-sql=true => Hibernate affiche les requêtes sql au moment du démarrage si on est à \"True\"\n",
    "\n",
    "- spring.jpa.hibernate.ddl-auto=update => création de la BD automatiquement (**update** de la BD, **create** écrase et recréer la BD)\n",
    "\n",
    "- spring.jpa.database-platform=com.pxp.SQLite.demo.dialect.SQLiteDialect =>  le dialect SQLiteDialect"
   ]
  },
  {
   "cell_type": "markdown",
   "metadata": {},
   "source": [
    "## Swagger UI : \" a way to vizualize and interact with an API\""
   ]
  },
  {
   "cell_type": "markdown",
   "metadata": {},
   "source": [
    "Configuration à part dans un package dédié. \n",
    "\n",
    "Permet de tester et de remplacer ***Postman*** (cet outil est beaucoup plus pratique car les schémas sont fournis, ce qui simplifie les tests de l'API) et notamment permet de générer la doc de l'API tout en la conservant uptodate. "
   ]
  },
  {
   "cell_type": "markdown",
   "metadata": {},
   "source": [
    "## JUnit - Mockito Tests"
   ]
  },
  {
   "cell_type": "markdown",
   "metadata": {},
   "source": [
    "The **thenReturn()** methods lets you define the return value when a particular method of the mocked object is been called."
   ]
  },
  {
   "cell_type": "markdown",
   "metadata": {},
   "source": [
    "***@RunWith(SpringRunner.class)*** : SpringRunner is an alias for the SpringJUnit4ClassRunner, which joins JUnit testing library with the Spring TestContext Framework. We use it with\n",
    "\n",
    "@SpringBootTest\n",
    "\n",
    "***mock*** : méthode pour simuler un objet"
   ]
  },
  {
   "cell_type": "code",
   "execution_count": null,
   "metadata": {},
   "outputs": [],
   "source": []
  }
 ],
 "metadata": {
  "kernelspec": {
   "display_name": "Python 3",
   "language": "python",
   "name": "python3"
  },
  "language_info": {
   "codemirror_mode": {
    "name": "ipython",
    "version": 3
   },
   "file_extension": ".py",
   "mimetype": "text/x-python",
   "name": "python",
   "nbconvert_exporter": "python",
   "pygments_lexer": "ipython3",
   "version": "3.7.10"
  }
 },
 "nbformat": 4,
 "nbformat_minor": 4
}
